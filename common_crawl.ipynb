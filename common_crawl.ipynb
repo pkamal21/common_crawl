{
 "cells": [
  {
   "cell_type": "code",
   "execution_count": 31,
   "metadata": {},
   "outputs": [],
   "source": [
    "import pandas as pd\n",
    "import requests\n",
    "import cdx_toolkit\n",
    "from bs4 import BeautifulSoup\n",
    "from iso3166 import countries\n",
    "from warcio import ArchiveIterator\n",
    "import json"
   ]
  },
  {
   "cell_type": "markdown",
   "metadata": {},
   "source": [
    "To get the meta of a website, We can use urlmeta api"
   ]
  },
  {
   "cell_type": "code",
   "execution_count": 32,
   "metadata": {},
   "outputs": [],
   "source": [
    "def get_meta(domain):\n",
    "    url = 'https://api.urlmeta.org/?url={}'.format(domain)\n",
    "    headers = {\n",
    "        'Authorization': 'Basic ' + 'YXdlc29tZXByZWV0MTI5OUBnbWFpbC5jb206YWYyeWVqRjN1Rm5WV0JCQ3JjYUo='\n",
    "    }\n",
    "\n",
    "    resp = requests.get(url, headers=headers)\n",
    "    meta = resp.json()\n",
    "    return meta\n"
   ]
  },
  {
   "cell_type": "code",
   "execution_count": 36,
   "metadata": {},
   "outputs": [],
   "source": [
    "url = 'https://www.lifestyle.com.au/'\n",
    "r = get_meta(url)    "
   ]
  },
  {
   "cell_type": "code",
   "execution_count": 37,
   "metadata": {},
   "outputs": [
    {
     "data": {
      "text/plain": [
       "{'meta': {'site': {'twitter': 'https://twitter.com/@lifestyletv',\n",
       "   'favicon': 'https://www.lifestyle.com.au/includes/images/faviconLS.ico?v=6'},\n",
       "  'keywords': ['LifeStyle',\n",
       "   'property',\n",
       "   'diy',\n",
       "   'gardening',\n",
       "   'recipes',\n",
       "   'health',\n",
       "   'lifestyle channel'],\n",
       "  'description': 'LifeStyle.com.au is the ultimate lifestyle destination with advice on home and garden, outdoor living, health, fitness, fashion, beauty, food and fishing. Get articles, videos, competitions, expert advice and more.',\n",
       "  'image': 'https://www.lifestyle.com.au/includes/images/socialLS_new.jpg',\n",
       "  'type': 'website',\n",
       "  'title': 'LifeStyle - Inspire & Entertain'},\n",
       " 'result': {'status': 'OK'}}"
      ]
     },
     "execution_count": 37,
     "metadata": {},
     "output_type": "execute_result"
    }
   ],
   "source": [
    "r"
   ]
  },
  {
   "cell_type": "markdown",
   "metadata": {},
   "source": [
    "<h5>To get the country name, we can  either use \"data.similarweb\" or \"data.alexa\". Both gave good results</h5>"
   ]
  },
  {
   "cell_type": "code",
   "execution_count": 45,
   "metadata": {},
   "outputs": [],
   "source": [
    "c = requests.get('https://data.similarweb.com/api/v1/data?domain=https://www.lifestyle.com.au/')\n",
    "country = c.json()"
   ]
  },
  {
   "cell_type": "code",
   "execution_count": 46,
   "metadata": {},
   "outputs": [],
   "source": [
    "iso_code = country['TopCountryShares'][0]['Country']"
   ]
  },
  {
   "cell_type": "code",
   "execution_count": 40,
   "metadata": {},
   "outputs": [],
   "source": [
    "coun = countries.get(iso_code)"
   ]
  },
  {
   "cell_type": "code",
   "execution_count": 41,
   "metadata": {},
   "outputs": [
    {
     "data": {
      "text/plain": [
       "'Australia'"
      ]
     },
     "execution_count": 41,
     "metadata": {},
     "output_type": "execute_result"
    }
   ],
   "source": [
    "#Gives us the country of the domain\n",
    "coun_name = coun.name\n",
    "coun_name"
   ]
  },
  {
   "cell_type": "code",
   "execution_count": 6,
   "metadata": {},
   "outputs": [],
   "source": [
    "from selenium import webdriver\n",
    "from bs4 import BeautifulSoup\n",
    "import random\n",
    "\n",
    "KEY = \"8ed85ca146683131\"\n",
    "\n",
    "def category(url):\n",
    "    f = open('user_agents.txt')\n",
    "    lines = f.readlines()\n",
    "    lines = [line.strip() for line in lines]\n",
    "\n",
    "    chrome_options = webdriver.ChromeOptions()\n",
    "    chrome_options.add_argument(\"--headless\")\n",
    "    chrome_options.add_argument('user-agent={}'.format(lines[random.randint(1, 500)]))\n",
    "    # chrome_options.add_argument('--proxy-server=%s' % PROXY)\n",
    "    chrome = webdriver.Chrome(chrome_options=chrome_options)\n",
    "    chrome.get(\"https://website-categorization.whoisxmlapi.com/api\")\n",
    "\n",
    "    inp = chrome.find_element_by_css_selector('.search-input-wrapper input')\n",
    "    inp.send_keys(url)\n",
    "    chrome.find_element_by_css_selector('i.icon-search').click()\n",
    "    soup = BeautifulSoup(chrome.page_source, 'lxml')\n",
    "\n",
    "    cat = soup.select('.category span')\n",
    "\n",
    "    for c in cat:\n",
    "        print(c.text)\n",
    "\n",
    "    chrome.close()"
   ]
  },
  {
   "cell_type": "code",
   "execution_count": 9,
   "metadata": {},
   "outputs": [
    {
     "name": "stderr",
     "output_type": "stream",
     "text": [
      "c:\\Users\\preet\\OneDrive\\Desktop\\new_start_stanleys\\stanleys-env\\lib\\site-packages\\ipykernel_launcher.py:16: DeprecationWarning: use options instead of chrome_options\n",
      "  app.launch_new_instance()\n"
     ]
    },
    {
     "name": "stdout",
     "output_type": "stream",
     "text": [
      "Computer and electronics\n"
     ]
    }
   ],
   "source": [
    "category('https://www.aeroplanejelly.com.au')"
   ]
  },
  {
   "cell_type": "code",
   "execution_count": 42,
   "metadata": {},
   "outputs": [],
   "source": [
    "# To get category of a website, we can use available apis out of which I used https://website-categorization.whoisxmlapi.com/\n",
    "# Output of the api is shown below"
   ]
  },
  {
   "cell_type": "markdown",
   "metadata": {},
   "source": [
    "Products/recipes:\n",
    "\n",
    "- www.aeroplanejelly.com.au -> Food and Drink\n",
    "- kitchen.nine.com.au -> Food and Drink\n",
    "- www.bakersdelight.com.au -> Food and Drink\n",
    "- www.betterbeanco.com -> Beauty and Fitness\n",
    "- www.bobsredmill.com -> Business And Industry, Computer and electronics, Health\n",
    "- www.kokoblack.com -> Food and Drink\n",
    "- golden-boronia.com -> Food and Drink\n",
    "\n",
    "\n",
    "News/Articles:\n",
    "\n",
    "- www.texasmonthly.com/ -> People and Society, Science, Reference\n",
    "- apnews.com/Australia -> News and Media\n",
    "- www.theage.com.au/ -> Health, Pets and Animals, Sports"
   ]
  },
  {
   "cell_type": "code",
   "execution_count": 43,
   "metadata": {},
   "outputs": [],
   "source": [
    "# Another service for porviding categories to webistes https://tools.zvelo.com/\n",
    "# Output of the api is shown below"
   ]
  },
  {
   "cell_type": "markdown",
   "metadata": {},
   "source": [
    "Products/recipes:\n",
    "\n",
    "- www.aeroplanejelly.com.au -> Hobbies & Interests - Other\n",
    "- kitchen.nine.com.au -> Portal Sites, News\n",
    "- www.bakersdelight.com.au -> Food and Drink\n",
    "- www.betterbeanco.com -> Information Security\n",
    "- www.bobsredmill.com -> Food & Drink - Other\n",
    "- www.kokoblack.com -> Food and Drink\n",
    "- golden-boronia.com -> Food and Drink\n",
    "\n",
    "\n",
    "News/Articles:\n",
    "\n",
    "- www.texasmonthly.com/ -> Magazines\n",
    "- apnews.com/Australia -> International News\n",
    "- www.theage.com.au/ -> International News"
   ]
  },
  {
   "cell_type": "markdown",
   "metadata": {},
   "source": [
    "for https://www.lifestyle.com.au/, Zvelo returns \"Television, International News\" while website-categorization returns Recreation and Hobbies"
   ]
  },
  {
   "cell_type": "markdown",
   "metadata": {},
   "source": [
    "### Now if we get the domain of the required category and country, we'll use commoncrawl to getdata "
   ]
  },
  {
   "cell_type": "code",
   "execution_count": 215,
   "metadata": {},
   "outputs": [
    {
     "name": "stdout",
     "output_type": "stream",
     "text": [
      "www.texasmonthly.com/* size estimate 237000\n"
     ]
    }
   ],
   "source": [
    "#We can estimate the number of pages scraped by commoncrawl crawlers\n",
    "cdx = cdx_toolkit.CDXFetcher(source='cc')\n",
    "url = 'www.texasmonthly.com/*'\n",
    "\n",
    "print(url, 'size estimate', cdx.get_size_estimate(url))"
   ]
  },
  {
   "cell_type": "code",
   "execution_count": 216,
   "metadata": {},
   "outputs": [],
   "source": [
    "#getting first 5 objects\n",
    "objs = []\n",
    "for obj in cdx.iter(url, limit=5):\n",
    "    objs.append(obj)"
   ]
  },
  {
   "cell_type": "code",
   "execution_count": 217,
   "metadata": {},
   "outputs": [
    {
     "data": {
      "text/plain": [
       "{'urlkey': 'com,texasmonthly)/%e2%80%8cpolitics/evictions-rent-payments-unemployment-coronavirus',\n",
       " 'timestamp': '20200713213922',\n",
       " 'redirect': 'https://www.texasmonthly.com/%E2%80%8Cpolitics/evictions-rent-payments-unemployment-coronavirus/',\n",
       " 'status': '301',\n",
       " 'url': 'https://www.texasmonthly.com/%E2%80%8Cpolitics/evictions-rent-payments-unemployment-coronavirus',\n",
       " 'mime': 'text/html',\n",
       " 'digest': '3I42H3S6NNFQ2MSVX7XZKYAYSCX5QBYJ',\n",
       " 'offset': '45080460',\n",
       " 'filename': 'crawl-data/CC-MAIN-2020-29/segments/1593657146845.98/crawldiagnostics/CC-MAIN-20200713194203-20200713224203-00128.warc.gz',\n",
       " 'length': '898',\n",
       " 'mime-detected': 'text/html'}"
      ]
     },
     "execution_count": 217,
     "metadata": {},
     "output_type": "execute_result"
    }
   ],
   "source": [
    "a = objs[1].data\n",
    "a"
   ]
  },
  {
   "cell_type": "code",
   "execution_count": 218,
   "metadata": {},
   "outputs": [],
   "source": [
    "#We can form wat and we files path using warc filename\n",
    "\n",
    "warc_url = 'https://commoncrawl.s3.amazonaws.com/' + objs[0].data['filename']\n",
    "wet_url = warc_url.replace('/warc/', '/wet/').replace('warc.gz', 'warc.wet.gz')\n",
    "wat_url = warc_url.replace('/warc/', '/wat/').replace('warc.gz', 'warc.wat.gz')"
   ]
  },
  {
   "cell_type": "code",
   "execution_count": 219,
   "metadata": {},
   "outputs": [
    {
     "data": {
      "text/plain": [
       "'https://commoncrawl.s3.amazonaws.com/crawl-data/CC-MAIN-2020-29/segments/1593655891884.11/warc/CC-MAIN-20200707080206-20200707110206-00401.warc.gz'"
      ]
     },
     "execution_count": 219,
     "metadata": {},
     "output_type": "execute_result"
    }
   ],
   "source": [
    "warc_url"
   ]
  },
  {
   "cell_type": "markdown",
   "metadata": {},
   "source": [
    "### WARC file"
   ]
  },
  {
   "cell_type": "code",
   "execution_count": 220,
   "metadata": {},
   "outputs": [],
   "source": [
    "#Getting warc file\n",
    "r = requests.get(warc_url, stream=True)\n",
    "records = ArchiveIterator(r.raw)"
   ]
  },
  {
   "cell_type": "code",
   "execution_count": 221,
   "metadata": {},
   "outputs": [
    {
     "data": {
      "text/plain": [
       "'warcinfo'"
      ]
     },
     "execution_count": 221,
     "metadata": {},
     "output_type": "execute_result"
    }
   ],
   "source": [
    "#First record is warcinfo\n",
    "record = next(records)\n",
    "record.rec_type"
   ]
  },
  {
   "cell_type": "code",
   "execution_count": 222,
   "metadata": {},
   "outputs": [
    {
     "name": "stdout",
     "output_type": "stream",
     "text": [
      "isPartOf: CC-MAIN-2020-29\r\n",
      "publisher: Common Crawl\r\n",
      "description: Wide crawl of the web for July 2020\r\n",
      "operator: Common Crawl Admin (info@commoncrawl.org)\r\n",
      "hostname: ip-10-67-67-83.ec2.internal\r\n",
      "software: Apache Nutch 1.17 (modified, https://github.com/commoncrawl/nutch/)\r\n",
      "robots: checked via crawler-commons 1.2-SNAPSHOT (https://github.com/crawler-commons/crawler-commons)\r\n",
      "format: WARC File Format 1.1\r\n",
      "conformsTo: http://iipc.github.io/warc-specifications/specifications/warc-format/warc-1.1/\r\n",
      "\n"
     ]
    }
   ],
   "source": [
    "a = record.content_stream().read()\n",
    "print(a.decode('utf-8'))"
   ]
  },
  {
   "cell_type": "code",
   "execution_count": 223,
   "metadata": {},
   "outputs": [
    {
     "data": {
      "text/plain": [
       "'request'"
      ]
     },
     "execution_count": 223,
     "metadata": {},
     "output_type": "execute_result"
    }
   ],
   "source": [
    "#Next is about the request to the server\n",
    "record = next(records)\n",
    "record.rec_type"
   ]
  },
  {
   "cell_type": "code",
   "execution_count": 224,
   "metadata": {},
   "outputs": [
    {
     "data": {
      "text/plain": [
       "[('WARC-Type', 'request'),\n",
       " ('WARC-Date', '2020-07-07T08:17:49Z'),\n",
       " ('WARC-Record-ID', '<urn:uuid:8fbee473-4c86-4ffb-83a4-dea0b7dd83bb>'),\n",
       " ('Content-Length', '278'),\n",
       " ('Content-Type', 'application/http; msgtype=request'),\n",
       " ('WARC-Warcinfo-ID', '<urn:uuid:96f24961-e435-4949-beb7-703989de7be3>'),\n",
       " ('WARC-IP-Address', '91.220.43.37'),\n",
       " ('WARC-Target-URI',\n",
       "  'http://%e2%80%8bwww.dzintarukoncertzale.lv/events/view/2557')]"
      ]
     },
     "execution_count": 224,
     "metadata": {},
     "output_type": "execute_result"
    }
   ],
   "source": [
    "record.rec_headers.headers"
   ]
  },
  {
   "cell_type": "code",
   "execution_count": 225,
   "metadata": {},
   "outputs": [
    {
     "data": {
      "text/plain": [
       "[('User-Agent', 'CCBot/2.0 (https://commoncrawl.org/faq/)'),\n",
       " ('Accept', 'text/html,application/xhtml+xml,application/xml;q=0.9,*/*;q=0.8'),\n",
       " ('Accept-Language', 'en-US,en;q=0.5'),\n",
       " ('Accept-Encoding', 'br,gzip'),\n",
       " ('Host', 'www.dzintarukoncertzale.lv'),\n",
       " ('Connection', 'Keep-Alive')]"
      ]
     },
     "execution_count": 225,
     "metadata": {},
     "output_type": "execute_result"
    }
   ],
   "source": [
    "#Https headers\n",
    "record.http_headers.headers"
   ]
  },
  {
   "cell_type": "code",
   "execution_count": 226,
   "metadata": {},
   "outputs": [
    {
     "data": {
      "text/plain": [
       "b''"
      ]
     },
     "execution_count": 226,
     "metadata": {},
     "output_type": "execute_result"
    }
   ],
   "source": [
    "#There is no data in the request\n",
    "a = record.content_stream().read()\n",
    "a"
   ]
  },
  {
   "cell_type": "code",
   "execution_count": 227,
   "metadata": {},
   "outputs": [
    {
     "data": {
      "text/plain": [
       "'response'"
      ]
     },
     "execution_count": 227,
     "metadata": {},
     "output_type": "execute_result"
    }
   ],
   "source": [
    "#Next is response to the previous request\n",
    "record = next(records)\n",
    "record.rec_type"
   ]
  },
  {
   "cell_type": "code",
   "execution_count": 228,
   "metadata": {},
   "outputs": [
    {
     "data": {
      "text/plain": [
       "[('WARC-Type', 'response'),\n",
       " ('WARC-Date', '2020-07-07T08:17:49Z'),\n",
       " ('WARC-Record-ID', '<urn:uuid:8b012124-de19-4236-8736-19176c463a6b>'),\n",
       " ('Content-Length', '17079'),\n",
       " ('Content-Type', 'application/http; msgtype=response'),\n",
       " ('WARC-Warcinfo-ID', '<urn:uuid:96f24961-e435-4949-beb7-703989de7be3>'),\n",
       " ('WARC-Concurrent-To', '<urn:uuid:8fbee473-4c86-4ffb-83a4-dea0b7dd83bb>'),\n",
       " ('WARC-IP-Address', '91.220.43.37'),\n",
       " ('WARC-Target-URI',\n",
       "  'http://%e2%80%8bwww.dzintarukoncertzale.lv/events/view/2557'),\n",
       " ('WARC-Payload-Digest', 'sha1:AGSOKPBOBO6RR4REQCHS2HMJPOYKPPI2'),\n",
       " ('WARC-Block-Digest', 'sha1:32XS5LHB66LJ2GHIICTU77OONW5WGF47'),\n",
       " ('WARC-Identified-Payload-Type', 'text/html')]"
      ]
     },
     "execution_count": 228,
     "metadata": {},
     "output_type": "execute_result"
    }
   ],
   "source": [
    "record.rec_headers.headers"
   ]
  },
  {
   "cell_type": "code",
   "execution_count": 229,
   "metadata": {},
   "outputs": [
    {
     "data": {
      "text/plain": [
       "[('Connection', 'Keep-Alive'),\n",
       " ('Set-Cookie', 'session=eb57bf3bac6a69e612ed4abc9b0bd759; path=/'),\n",
       " ('Content-Type', 'text/html; charset=utf-8'),\n",
       " ('Cache-Control', 'public, max-age=0'),\n",
       " ('Expires', 'Tue, 07 Jul 2020 08:17:48 GMT'),\n",
       " ('X-Crawler-Transfer-Encoding', 'chunked'),\n",
       " ('X-Crawler-Content-Encoding', 'br'),\n",
       " ('Vary', 'Accept-Encoding,User-Agent'),\n",
       " ('Date', 'Tue, 07 Jul 2020 08:17:48 GMT'),\n",
       " ('Server', 'LiteSpeed'),\n",
       " ('X-UA-Compatible', 'IE=edge'),\n",
       " ('X-Frame-Options', 'DENY'),\n",
       " ('Strict-Transport-Security', 'max-age=16070400; includeSubDomains'),\n",
       " ('X-Content-Type-Options', 'nosniff'),\n",
       " ('X-XSS-Protection', '1; mode=block'),\n",
       " ('Content-Length', '16498')]"
      ]
     },
     "execution_count": 229,
     "metadata": {},
     "output_type": "execute_result"
    }
   ],
   "source": [
    "record.http_headers.headers"
   ]
  },
  {
   "cell_type": "code",
   "execution_count": 230,
   "metadata": {},
   "outputs": [
    {
     "data": {
      "text/plain": [
       "b'<!DOCTYPE html>\\n<head>\\n    <meta http-equiv=\"Content-Type\" content=\"text/html; charset=utf-8\"/>\\n    <title>Dzintaru koncertz\\xc4\\x81le</title>\\n    <meta name=\"keywords\" content=\"Dzintaru koncertz\\xc4\\x81le\"/>\\n    <meta name=\"description\" content=\"Dzintaru koncertz\\xc4\\x81le\"/>\\n    <meta name=\"robots\" content=\"index, follow\"/>\\n\\n    <meta http-equiv=\"X-UA-Compatible\" content=\"IE=edge,chrome=1\">\\n    <meta name=\"viewport\" content=\"width=device-width, initial-scale=1.0\">\\n\\n            <!-- facebook share info -->\\n        <meta property=\"fb:app_id\" content=\"781514475514247\"/>\\n        <meta property=\"og:site_name\" content=\"Dzintaru Koncertz\\xc4\\x81le\"/>\\n        <meta property=\"og:title\" content=\\'J\\xc5\\xabrmalas festiv\\xc4\\x81ls. Atkl\\xc4\\x81\\xc5\\xa1anas koncerts. Velt\\xc4\\xabjums Marisam Jansonam (P\\xc4\\x80RCELTS UZ 29. J\\xc5\\xaaLIJU)\\'/>\\n\\n                    <meta property=\"og:url\"\\n              content=\"http://www.dzintarukoncertzale.lv/test/events/view/2557\"/>\\n        \\n                    <meta property=\"og:image\"\\n                  content=\"http://www.dzintarukoncertzale.lv/uploads/events/5e21ca297daf2.jpg\"/>\\n                <meta property=\"og:type\" content=\"website\"/>\\n\\n                    <meta property=\"og:description\" content=\\'<p><strong>Pas\\xc4\\x81kuma organizators: Dzintaru koncertz\\xc4\\x81le SIA\\xc2\\xa0</strong> \\xc2\\xa0 \\xc2\\xa0\\xc2\\xa0</p>\\'/>\\n            \\n    <link href=\"/site-content/css/style.css\" rel=\"stylesheet\" type=\"text/css\">\\n\\n    <link href=\"/site-content/css/calendar.css\" rel=\"stylesheet\" type=\"text/css\">\\n\\n    <link href=\"/site-content/css/new.css\" rel=\"stylesheet\" type=\"text/css\">\\n\\n    <link rel=\"shortcut icon\" href=\"/site-content/css/images/favicon.jpg\" type=\"image/jpg\"/>\\n\\n    <!--[if lt IE 9]>\\n    <script src=\"/site-content/js/html5shiv.js\"></script>\\n    <![endif]-->\\n\\n            <link type=\"text/css\" href=\"/site-content/css/jplayer/pink.flag/css/jplayer.pink.flag.css\" rel=\"stylesheet\"/>\\n    \\n    \\n    \\n            <!-- style changes for events, contacts -->\\n        <style>\\n            div.main-container {\\n                min-height: 900px;\\n                background-image: url(/site-content/css/images/main-container-bottom-left.png),\\n                url(/site-content/css/images/main-container-bottom-right.png),\\n                url(/site-content/css/images/main-container-middle-left.png),\\n                url(/site-content/css/images/main-container-middle-right.png);\\n                background-position: left bottom, right bottom, left 70px, right 150px;\\n            }\\n\\n            @media all and (max-width: 1366px) {\\n\\n                div.main-container {\\n                    background-position: -120px bottom, 1250px bottom, -120px 70px, 1250px 150px;\\n                }\\n\\n            }\\n        </style>\\n    \\n    <script>\\n        (function (i, s, o, g, r, a, m) {\\n            i[\\'GoogleAnalyticsObject\\'] = r;\\n            i[r] = i[r] || function () {\\n                (i[r].q = i[r].q || []).push(arguments)\\n            }, i[r].l = 1 * new Date();\\n            a = s.createElement(o),\\n                m = s.getElementsByTagName(o)[0];\\n            a.async = 1;\\n            a.src = g;\\n            m.parentNode.insertBefore(a, m)\\n        })(window, document, \\'script\\', \\'//www.google-analytics.com/analytics.js\\', \\'ga\\');\\n\\n        ga(\\'create\\', \\'UA-60693516-1\\', \\'auto\\');\\n        ga(\\'send\\', \\'pageview\\');\\n\\n    </script>\\n\\n    <script type=\"text/javascript\" src=\"/site-content/js/jquery-3.2.1.min.js\"></script>\\n            <script type=\"text/javascript\" src=\"/site-content/js/jplayer/jquery.jplayer.min.js\"></script>\\n            <script type=\"text/javascript\" src=\"/site-content/js/jquery.matchHeight.js\"></script>\\n    <script type=\"text/javascript\" src=\"/site-content/js/custom.js?v=3\"></script>\\n\\n    <!-- Facebook Pixel Code -->\\n    <script>\\n    !function(f,b,e,v,n,t,s)\\n    {if(f.fbq)return;n=f.fbq=function(){n.callMethod?\\n    n.callMethod.apply(n,arguments):n.queue.push(arguments)};\\n    if(!f._fbq)f._fbq=n;n.push=n;n.loaded=!0;n.version=\\'2.0\\';\\n    n.queue=[];t=b.createElement(e);t.async=!0;\\n    t.src=v;s=b.getElementsByTagName(e)[0];\\n    s.parentNode.insertBefore(t,s)}(window,document,\\'script\\',\\n    \\'https://connect.facebook.net/en_US/fbevents.js\\');\\n    fbq(\\'init\\', \\'260348758196754\\');\\n    fbq(\\'track\\', \\'PageView\\');\\n    </script>\\n    <noscript>\\n    <img height=\"1\" width=\"1\"\\n    src=\"https://www.facebook.com/tr?id=829172047149214&ev=PageView\\n    &noscript=1\"/>\\n    </noscript>\\n    <!-- End Facebook Pixel Code -->\\n\\n</head>\\n\\n<body data-lang=\"lv\">\\n\\n\\n<div id=\"fb-root\"></div>\\n<script>(function (d, s, id) {\\n        var js, fjs = d.getElementsByTagName(s)[0];\\n        if (d.getElementById(id)) return;\\n        js = d.createElement(s);\\n        js.id = id;\\n        js.src = \"//connect.facebook.net/lv_LV/sdk.js#xfbml=1&appId=781514475514247&version=v2.0\";\\n        fjs.parentNode.insertBefore(js, fjs);\\n    }(document, \\'script\\', \\'facebook-jssdk\\'));</script>\\n\\n<header>\\n    <div class=\"top-container\">\\n\\n        <a class=\"logo\" href=\"/\">\\n            <div class=\"logo-img\"></div>\\n        </a>\\n\\n                <div class=\"social social-and-lang\">\\n\\n            <div>\\n                <div class=\"lang-container row\">\\n                                            <a class=\"lang active\" href=\"/?lang=lv\"><span\\n                                    class=\"bg\"></span><span class=\"lang-text\">LV</span></a>\\n                                            <a class=\"lang \" href=\"/?lang=en\"><span\\n                                    class=\"bg\"></span><span class=\"lang-text\">EN</span></a>\\n                                            <a class=\"lang \" href=\"/?lang=ru\"><span\\n                                    class=\"bg\"></span><span class=\"lang-text\">RU</span></a>\\n                                    </div>\\n\\n                <div class=\"media-container row\">\\n                                        <a class=\"twitter\" href=\"https://twitter.com/koncertzale\" target=\"_blank\"><span\\n                                class=\"bg\"></span><span class=\"icon icon-twitter\"></span></a>\\n                    <a class=\"facebook\" href=\"https://www.facebook.com/dzintarukoncertzale\" target=\"_blank\"><span\\n                                class=\"bg\"></span><span class=\"icon icon-facebook\"></span></a>\\n                    <a class=\"instagram\" href=\"https://www.instagram.com/dzintarukoncertzale/\" target=\"_blank\"><span\\n                                class=\"bg\"></span><span class=\"icon icon-instagram\"></span></a>\\n                    <a class=\"youtube\" href=\"https://www.youtube.com/channel/UCyuts4RHuYJXGDYfoAm6RxA\" target=\"_blank\"><span\\n                                class=\"bg\"></span><span class=\"icon icon-youtube\"></span></a>\\n                </div>\\n            </div>\\n\\n        </div><!-- /.social -->\\n\\n        <div class=\"social tour-button\">\\n            <a href=\"/tour\">\\n                <span class=\"icon icon-360\"></span>\\n                <div class=\"lower-wrap\">\\n                    <p class=\"tour-text\">\\n\\t360\\xc2\\xb0<br>T\\xc5\\xaaRE</p>\\n                    <div class=\"icon-wrap\">\\n                        <span class=\"icon icon-double-arrow\"></span>\\n                    </div>\\n                </div>\\n            </a>\\n        </div>\\n\\n        <div class=\"clear\"></div>\\n\\n    </div><!-- /.top-container -->\\n\\n    <div class=\"nav-container\">\\n        <button class=\"burger\">\\n            <span class=\"bs bs-top\"></span>\\n            <span class=\"bs bs-mid\"></span>\\n            <span class=\"bs bs-bot\"></span>\\n        </button>\\n        <nav class=\"main\">\\n            <ul>\\n                <li><a href=\"/actualities\" >Aktualit\\xc4\\x81tes</a></li><li><a href=\"/calendar\" >Kalend\\xc4\\x81rs</a></li><li><a href=\"/halls\" >Dzintaru koncertz\\xc4\\x81le</a></li><li><a href=\"/visitors\" >Apmekl\\xc4\\x93t\\xc4\\x81jiem</a></li><li><a href=\"/contacts\" >Kontakti</a></li><li><a href=\"https://www.youtube.com/channel/UCyuts4RHuYJXGDYfoAm6RxA\" target=\"_blank\">Koncertz\\xc4\\x81les video</a></li><li><a href=\"/partners\" >Pas\\xc4\\x81kumu r\\xc4\\xabkot\\xc4\\x81jiem</a></li>            </ul>\\n            <button class=\"search-button\"></button>\\n\\n\\n            <div class=\"clear\"></div>\\n\\n        </nav>\\n    </div>\\n\\n</header>\\n\\n\\n<div class=\"main-container \">\\n    <div class=\"content-container\">\\n<section class=\"events-view\">\\n\\n    <div class=\"title\">J\\xc5\\xabrmalas festiv\\xc4\\x81ls. Atkl\\xc4\\x81\\xc5\\xa1anas koncerts. Velt\\xc4\\xabjums Marisam Jansonam (P\\xc4\\x80RCELTS UZ 29. J\\xc5\\xaaLIJU)</div>\\n\\n            <div class=\"image-container\">\\n            <img src=\"/uploads/events/5e21ca297daf2.jpg\" alt=\"\"/>\\n        </div>\\n\\n    \\n    <div class=\"info-container\">\\n\\n        <div class=\"info\">\\n\\n            <p class=\"date\">\\n                Ot. 28. J\\xc5\\xablijs 2020                19:30            </p>\\n            <p class=\"hall\">Liel\\xc4\\x81 z\\xc4\\x81le</p>\\n            \\n        </div>\\n\\n        <div class=\"desc\">\\n            <p>Klaus\\xc4\\xabt\\xc4\\x81jiem, kuri ieg\\xc4\\x81d\\xc4\\x81ju\\xc5\\xa1ies bi\\xc4\\xbcetes uz 28.\\xc2\\xa0j\\xc5\\xablija koncertu, pied\\xc4\\x81v\\xc4\\x81jam apmain\\xc4\\xabt iepriek\\xc5\\xa1 ieg\\xc4\\x81d\\xc4\\x81t\\xc4\\x81s bi\\xc4\\xbcetes uz p\\xc4\\x81rcelto koncertu 29.\\xc2\\xa0j\\xc5\\xablij\\xc4\\x81. Inform\\xc4\\x93jam, ka sakar\\xc4\\x81 ar valst\\xc4\\xab sp\\xc4\\x93k\\xc4\\x81 eso\\xc5\\xa1ajiem ierobe\\xc5\\xbeojumiem, Dzintaru koncertz\\xc4\\x81les s\\xc4\\x93dvietu izk\\xc4\\x81rtojums ir main\\xc4\\xabts. Lai veiktu bi\\xc4\\xbce\\xc5\\xa1u apmai\\xc5\\x86u, l\\xc5\\xabdzam zvan\\xc4\\xabt Dzintaru koncertz\\xc4\\x81les bi\\xc4\\xbce\\xc5\\xa1u administratoram pa\\xc2\\xa0t\\xc4\\x81lruni 26377077\\xc2\\xa0darba dien\\xc4\\x81s no plkst. 9.00 \\xe2\\x80\\x93 17.00.</p>\\n<p>Apmain\\xc4\\x81mo bi\\xc4\\xbce\\xc5\\xa1u skaits ir ierobe\\xc5\\xbeots \\xe2\\x80\\x93 497 vietas (iepriek\\xc5\\xa1\\xc4\\x93jo 2100 viet\\xc4\\x81). \\xc2\\xa0Bi\\xc4\\xbce\\xc5\\xa1u apmai\\xc5\\x86u iesp\\xc4\\x93jams veikt l\\xc4\\xabdz \\xc5\\xa1\\xc4\\xab gada 17. j\\xc5\\xablijam. Tiem, kuri nepasp\\xc4\\x93s bi\\xc4\\xbcetes apmain\\xc4\\xabt, nauda tiks atgriezta.</p>\\n<p><strong>Pas\\xc4\\x81kuma organizators: Dzintaru koncertz\\xc4\\x81le SIA\\xc2\\xa0</strong> \\xc2\\xa0 \\xc2\\xa0\\xc2\\xa0</p>        </div>\\n\\n                    <div class=\"buy-tickets\">\\n                                <a class=\"book-hotel\" href=\"https://hotelwebsitebooking.com/jurmala/rooms\"\\n                   target=\"_blank\">Rezerv\\xc4\\x93t viesn\\xc4\\xabcu</a>\\n                            </div>\\n        \\n        <div class=\"social\">\\n            <div class=\"container\">\\n\\n                <div style=\"float: left; margin: 0; padding: 0 10px 0 0; border-right: 1px solid #d3d3d3;\">\\n                    <div class=\"fb-like\" data-layout=\"button_count\" data-action=\"like\" data-show-faces=\"false\"\\n                         data-share=\"true\"></div>\\n                </div>\\n\\n                <div style=\"float: left; margin: 0 0 0 10px;\">\\n                    <a class=\"twitter-share-button\" style=\"padding: 0 0 0 10px; margin: 0;\"\\n                       href=\"http://www.dzintarukoncertzale.lv/events/view/2557\"\\n                       data-text=\\'J\\xc5\\xabrmalas festiv\\xc4\\x81ls. Atkl\\xc4\\x81\\xc5\\xa1anas koncerts. Velt\\xc4\\xabjums Marisam Jansonam (P\\xc4\\x80RCELTS UZ 29. J\\xc5\\xaaLIJU)\\' data-count=\"horizontal\">Tweet</a>\\n                </div>\\n                <script>\\n                    window.twttr = (function (d, s, id) {\\n                        var js, fjs = d.getElementsByTagName(s)[0], t = window.twttr || {};\\n                        if (d.getElementById(id)) return;\\n                        js = d.createElement(s);\\n                        js.id = id;\\n                        js.src = \"https://platform.twitter.com/widgets.js\";\\n                        fjs.parentNode.insertBefore(js, fjs);\\n                        t._e = [];\\n                        t.ready = function (f) {\\n                            t._e.push(f);\\n                        };\\n                        return t;\\n                    }(document, \"script\", \"twitter-wjs\"));\\n                </script>\\n\\n\\n            </div>\\n        </div>\\n\\n    </div>\\n\\n</section>\\n\\n<aside class=\"events-view\">\\n\\n    <!--\\t<div class=\"sub-title\">--><!--</div>-->\\n    <!---->\\n    <!--\\t-->\\n    \\n</aside>\\n\\n<script>\\n\\n    var loaded = 0;\\n    var total = 0;\\n\\n    \\n    // if there are more than 2 events\\n    \\n    \\n    $(\\'#rel-events-load-more\\').hide();\\n\\n    \\n    $(\\'#rel-events-load-more\\').click(function () {\\n\\n        if (loaded < total) {\\n            for (var i = loaded; i <= loaded + 2; i++) {\\n                $(\\'#rel-event-\\' + i).fadeIn(100);\\n            }\\n            loaded = loaded + 2;\\n\\n            if (loaded >= total)\\n                $(\\'#rel-events-load-more\\').hide();\\n        }\\n        else\\n            $(\\'#rel-events-load-more\\').hide();\\n    });\\n\\n</script>\\n\\n<div class=\"clear\"></div>\\n\\n</div><!-- /.content-container -->\\n</div><!-- /.main-container -->\\n\\n<footer>\\n\\n    <div class=\"content-container\">\\n\\n        <div class=\"f-left\">\\n            <img src=\"/site-content/css/images/dzk-logo-footer.png\" alt=\"DZK\"/>\\n\\n            <div class=\"info\">\\n                <p><strong>SIA \"Dzintaru koncertz\\xc4\\x81le\"</strong> <br />Turaidas iela 1, J\\xc5\\xabrmala, LV-2015<br />Re\\xc4\\xa3. Nr. 40003378932<br />PVN maks\\xc4\\x81t\\xc4\\x81ja Nr. LV 40003378932<br />AS SEB banka, kods UNLALV2X<br />Konts LV42UNLA0010009467685</p>\\n<p><br />T\\xc4\\x81lrunis: 67762092<br />E-pasts: info@dzintarukoncertzale.lv</p>            </div>\\n        </div><!-- /.f-left -->\\n\\n        <div class=\"f-right\">\\n\\n            <nav>\\n                <ul>\\n                    <li><a href=\"/supporters\" >Atbalst\\xc4\\xabt\\xc4\\x81ji & partneri</a></li><li><a href=\"/purchases\" >Iepirkumi</a></li><li><a href=\"/auctions\" >Izsoles</a></li><li><a href=\"/press\" >Presei</a></li><li><a href=\"/officialinfo\" >Ofici\\xc4\\x81l\\xc4\\x81 inform\\xc4\\x81cija</a></li>                </ul>\\n            </nav>\\n\\n            <div class=\"clear\"></div>\\n\\n            <div class=\"newsletter\">\\n                <p class=\"font-bold\">Pieteikties jaunumiem:</p>\\n\\n                <div class=\"clear\"></div>\\n\\n                <form action=\"\" method=\"post\">\\n                    <div>\\n                        <input type=\"text\" name=\"newsletters_email\"\\n                               placeholder=\"J\\xc5\\xabsu e-pasta adrese\"\\n                               value=\"\"/>\\n                        <input class=\"submit\" type=\"submit\" value=\"Pieteikties\"/>\\n                    </div>\\n\\n                    \\n                </form>\\n                <div class=\"clear\"></div>\\n            </div>\\n\\n            <div class=\"social-buttons\">\\n\\n                <div style=\"float: right;\" class=\"instagram-follow\">\\n                    <a href=\"https://www.instagram.com/dzintarukoncertzale/\" class=\"btn\"><span class=\"icon icon-instagram\"></span> Sekot</a>\\n                </div>\\n\\n                <div style=\"float: right;\">\\n                    <a class=\"twitter-share-button\" href=\"https://twitter.com/share\" data-count=\"none\">Tweet</a>\\n                    <script>\\n                        window.twttr = (function (d, s, id) {\\n                            var js, fjs = d.getElementsByTagName(s)[0], t = window.twttr || {};\\n                            if (d.getElementById(id)) return;\\n                            js = d.createElement(s);\\n                            js.id = id;\\n                            js.src = \"https://platform.twitter.com/widgets.js\";\\n                            fjs.parentNode.insertBefore(js, fjs);\\n                            t._e = [];\\n                            t.ready = function (f) {\\n                                t._e.push(f);\\n                            };\\n                            return t;\\n                        }(document, \"script\", \"twitter-wjs\"));\\n                    </script>\\n                </div>\\n\\n                <div style=\"float: right; margin: 0 4px 0 0;\">\\n                    <div class=\"fb-like\" data-href=\"http://dzk.lv/\" data-layout=\"button\" data-action=\"like\"\\n                         data-show-faces=\"false\" data-share=\"true\"></div>\\n                </div>\\n\\n            </div>\\n\\n            <div class=\"facebook-facepile-container\">\\n                <div class=\"fb-facepile\" data-href=\"https://www.facebook.com/dzintarukoncertzale\" data-width=\"307\"\\n                     data-height=\"145\" data-max-rows=\"2\" data-colorscheme=\"dark\" data-size=\"large\"\\n                     data-show-count=\"true\"></div>\\n            </div>\\n\\n        </div><!-- /.f-right -->\\n\\n        <div class=\"clear\"></div>\\n\\n        <div class=\"development\">\\n            Izstr\\xc4\\x81d\\xc4\\x81ja            <a href=\"https://sem.lv/\" target=\"_blank\" class=\"sem-logo\" title=\"Sem.lv - M\\xc4\\x81jas lapas un dizaina izstr\\xc4\\x81de\"></a>\\n        </div>\\n\\n        <div class=\"clear\"></div>\\n\\n    </div><!-- /.content-container -->\\n\\n</footer>\\n\\n<a id=\"back-to-top\" href=\"#\"></a>\\n<a id=\"go-to-bottom\" href=\"#\"></a>\\n\\n<div id=\"calendar-tooltip-big\"></div>\\n\\n<script>\\n    // go to top, bottom\\n    $(window).scroll(function () {\\n        if ($(this).scrollTop() > 300) {\\n            $(\\'a#back-to-top\\').fadeIn();\\n            $(\\'a#go-to-bottom\\').fadeIn();\\n        }\\n        else {\\n            $(\\'a#back-to-top\\').fadeOut();\\n            $(\\'a#go-to-bottom\\').fadeOut();\\n        }\\n    });\\n\\n    $(\\'a#back-to-top\\').click(function () {\\n        $(\\'html, body\\').animate({scrollTop: 0}, 500);\\n        return false;\\n    });\\n\\n    $(\\'a#go-to-bottom\\').click(function () {\\n        $(\\'html, body\\').animate({scrollTop: $(document).height()}, 500);\\n        return false;\\n    });\\n</script>\\n</body>\\n</html>'"
      ]
     },
     "execution_count": 230,
     "metadata": {},
     "output_type": "execute_result"
    }
   ],
   "source": [
    "#Response contains the full html\n",
    "a = record.content_stream().read()\n",
    "a"
   ]
  },
  {
   "cell_type": "code",
   "execution_count": 231,
   "metadata": {},
   "outputs": [
    {
     "data": {
      "text/plain": [
       "'metadata'"
      ]
     },
     "execution_count": 231,
     "metadata": {},
     "output_type": "execute_result"
    }
   ],
   "source": [
    "#Next record is the metadata\n",
    "record = next(records)\n",
    "record.rec_type"
   ]
  },
  {
   "cell_type": "markdown",
   "metadata": {},
   "source": [
    "### Some details in metadata\n",
    "- How long it took to fetch the size\n",
    "- Detected characterset\n",
    "- Languages detected"
   ]
  },
  {
   "cell_type": "code",
   "execution_count": 232,
   "metadata": {},
   "outputs": [
    {
     "data": {
      "text/plain": [
       "[('WARC-Type', 'metadata'),\n",
       " ('WARC-Date', '2020-07-07T08:17:49Z'),\n",
       " ('WARC-Record-ID', '<urn:uuid:fa32f8ea-106a-4fa3-b10f-02db1f78dffe>'),\n",
       " ('Content-Length', '203'),\n",
       " ('Content-Type', 'application/warc-fields'),\n",
       " ('WARC-Warcinfo-ID', '<urn:uuid:96f24961-e435-4949-beb7-703989de7be3>'),\n",
       " ('WARC-Concurrent-To', '<urn:uuid:8b012124-de19-4236-8736-19176c463a6b>'),\n",
       " ('WARC-Target-URI',\n",
       "  'http://%e2%80%8bwww.dzintarukoncertzale.lv/events/view/2557')]"
      ]
     },
     "execution_count": 232,
     "metadata": {},
     "output_type": "execute_result"
    }
   ],
   "source": [
    "record.rec_headers.headers"
   ]
  },
  {
   "cell_type": "code",
   "execution_count": 233,
   "metadata": {},
   "outputs": [
    {
     "name": "stdout",
     "output_type": "stream",
     "text": [
      "fetchTimeMs: 11570\r\n",
      "charset-detected: UTF-8\r\n",
      "languages-cld2: {\"reliable\":true,\"text-bytes\":1229,\"languages\":[{\"code\":\"lv\",\"code-iso-639-3\":\"lav\",\"text-covered\":0.99,\"score\":1234.0,\"name\":\"LATVIAN\"}]}\r\n",
      "\r\n",
      "\n"
     ]
    }
   ],
   "source": [
    "a = record.content_stream().read()\n",
    "print(a.decode('utf-8'))"
   ]
  },
  {
   "cell_type": "code",
   "execution_count": 234,
   "metadata": {},
   "outputs": [
    {
     "data": {
      "text/plain": [
       "('request', 'http://%e2%80%8bwww.dzintarukoncertzale.lv/events/view/2719')"
      ]
     },
     "execution_count": 234,
     "metadata": {},
     "output_type": "execute_result"
    }
   ],
   "source": [
    "# NEXT RECORD\n",
    "record = next(records)\n",
    "record.rec_type, record.rec_headers.get_header('WARC-Target-URI')"
   ]
  },
  {
   "cell_type": "code",
   "execution_count": 235,
   "metadata": {},
   "outputs": [
    {
     "data": {
      "text/plain": [
       "('response', 'http://%e2%80%8bwww.dzintarukoncertzale.lv/events/view/2719')"
      ]
     },
     "execution_count": 235,
     "metadata": {},
     "output_type": "execute_result"
    }
   ],
   "source": [
    "record = next(records)\n",
    "record.rec_type, record.rec_headers.get_header('WARC-Target-URI')"
   ]
  },
  {
   "cell_type": "code",
   "execution_count": 236,
   "metadata": {},
   "outputs": [
    {
     "data": {
      "text/plain": [
       "('metadata', 'http://%e2%80%8bwww.dzintarukoncertzale.lv/events/view/2719')"
      ]
     },
     "execution_count": 236,
     "metadata": {},
     "output_type": "execute_result"
    }
   ],
   "source": [
    "record = next(records)\n",
    "record.rec_type, record.rec_headers.get_header('WARC-Target-URI')"
   ]
  },
  {
   "cell_type": "code",
   "execution_count": 237,
   "metadata": {},
   "outputs": [],
   "source": [
    "r.close()"
   ]
  },
  {
   "cell_type": "markdown",
   "metadata": {},
   "source": [
    "## Reading WET files"
   ]
  },
  {
   "cell_type": "code",
   "execution_count": 271,
   "metadata": {},
   "outputs": [],
   "source": [
    "r = requests.get(wet_url, stream=True)\n",
    "records = ArchiveIterator(r.raw)"
   ]
  },
  {
   "cell_type": "code",
   "execution_count": 272,
   "metadata": {},
   "outputs": [
    {
     "data": {
      "text/plain": [
       "'warcinfo'"
      ]
     },
     "execution_count": 272,
     "metadata": {},
     "output_type": "execute_result"
    }
   ],
   "source": [
    "#First information is about the crawl\n",
    "\n",
    "record = next(records)\n",
    "record.rec_type"
   ]
  },
  {
   "cell_type": "code",
   "execution_count": 273,
   "metadata": {},
   "outputs": [
    {
     "name": "stdout",
     "output_type": "stream",
     "text": [
      "Software-Info: ia-web-commons.1.1.10-SNAPSHOT-20200622102203\r\n",
      "Extracted-Date: Sat, 18 Jul 2020 02:04:29 GMT\r\n",
      "robots: checked via crawler-commons 1.2-SNAPSHOT (https://github.com/crawler-commons/crawler-commons)\r\n",
      "isPartOf: CC-MAIN-2020-29\r\n",
      "operator: Common Crawl Admin (info@commoncrawl.org)\r\n",
      "description: Wide crawl of the web for July 2020\r\n",
      "publisher: Common Crawl\r\n",
      "\r\n",
      "\n"
     ]
    }
   ],
   "source": [
    "\n",
    "a = record.content_stream().read()\n",
    "print(a.decode('utf-8'))"
   ]
  },
  {
   "cell_type": "code",
   "execution_count": 274,
   "metadata": {},
   "outputs": [
    {
     "data": {
      "text/plain": [
       "'conversion'"
      ]
     },
     "execution_count": 274,
     "metadata": {},
     "output_type": "execute_result"
    }
   ],
   "source": [
    "#WET files doesnt contain just the title and text\n",
    "record = next(records)\n",
    "record.rec_type"
   ]
  },
  {
   "cell_type": "code",
   "execution_count": 275,
   "metadata": {},
   "outputs": [
    {
     "data": {
      "text/plain": [
       "[('WARC-Type', 'conversion'),\n",
       " ('WARC-Target-URI',\n",
       "  'http://%e2%80%8bwww.dzintarukoncertzale.lv/events/view/2557'),\n",
       " ('WARC-Date', '2020-07-07T08:17:49Z'),\n",
       " ('WARC-Record-ID', '<urn:uuid:9490a23e-c3a1-4084-b1d9-dffea8dd17ba>'),\n",
       " ('WARC-Refers-To', '<urn:uuid:8b012124-de19-4236-8736-19176c463a6b>'),\n",
       " ('WARC-Block-Digest', 'sha1:7CKU5MKZ4U4BKDNFNZYFNEN4CITSTRLE'),\n",
       " ('WARC-Identified-Content-Language', 'lav'),\n",
       " ('Content-Type', 'text/plain'),\n",
       " ('Content-Length', '1391')]"
      ]
     },
     "execution_count": 275,
     "metadata": {},
     "output_type": "execute_result"
    }
   ],
   "source": [
    "record.rec_headers.headers"
   ]
  },
  {
   "cell_type": "code",
   "execution_count": 276,
   "metadata": {},
   "outputs": [
    {
     "name": "stdout",
     "output_type": "stream",
     "text": [
      "Dzintaru koncertzāle\n",
      "LV EN RU\n",
      "360°\n",
      "TŪRE\n",
      "Aktualitātes\n",
      "Kalendārs\n",
      "Dzintaru koncertzāle\n",
      "Apmeklētājiem\n",
      "Kontakti\n",
      "Koncertzāles video\n",
      "Pasākumu rīkotājiem\n",
      "Jūrmalas festivāls. Atklāšanas koncerts. Veltījums Marisam Jansonam (PĀRCELTS UZ 29. JŪLIJU)\n",
      "Ot. 28. Jūlijs 2020 19:30\n",
      "Lielā zāle\n",
      "Klausītājiem, kuri iegādājušies biļetes uz 28. jūlija koncertu, piedāvājam apmainīt iepriekš iegādātās biļetes uz pārcelto koncertu 29. jūlijā. Informējam, ka sakarā ar valstī spēkā esošajiem ierobežojumiem, Dzintaru koncertzāles sēdvietu izkārtojums ir mainīts. Lai veiktu biļešu apmaiņu, lūdzam zvanīt Dzintaru koncertzāles biļešu administratoram pa tālruni 26377077 darba dienās no plkst. 9.00 – 17.00.\n",
      "Apmaināmo biļešu skaits ir ierobežots – 497 vietas (iepriekšējo 2100 vietā). Biļešu apmaiņu iespējams veikt līdz šī gada 17. jūlijam. Tiem, kuri nepaspēs biļetes apmainīt, nauda tiks atgriezta.\n",
      "Pasākuma organizators: Dzintaru koncertzāle SIA\n",
      "Rezervēt viesnīcu\n",
      "Tweet\n",
      "SIA \"Dzintaru koncertzāle\"\n",
      "Turaidas iela 1, Jūrmala,\n"
     ]
    }
   ],
   "source": [
    "record.http_headers\n",
    "a = record.content_stream().read()\n",
    "print(a.decode('utf-8')[:1000])\n",
    "# The first line is the title of the page. ALl else is the text in the page"
   ]
  },
  {
   "cell_type": "code",
   "execution_count": 277,
   "metadata": {},
   "outputs": [
    {
     "data": {
      "text/plain": [
       "'conversion'"
      ]
     },
     "execution_count": 277,
     "metadata": {},
     "output_type": "execute_result"
    }
   ],
   "source": [
    "record = next(records)\n",
    "record.rec_type"
   ]
  },
  {
   "cell_type": "code",
   "execution_count": 278,
   "metadata": {},
   "outputs": [
    {
     "data": {
      "text/plain": [
       "'http://%e2%80%8bwww.dzintarukoncertzale.lv/events/view/2719'"
      ]
     },
     "execution_count": 278,
     "metadata": {},
     "output_type": "execute_result"
    }
   ],
   "source": [
    "record.rec_headers.get_header('WARC-Target-URI')"
   ]
  },
  {
   "cell_type": "code",
   "execution_count": 279,
   "metadata": {},
   "outputs": [
    {
     "name": "stdout",
     "output_type": "stream",
     "text": [
      "Dzintaru koncertzāle\n",
      "LV EN RU\n",
      "360°\n",
      "TŪRE\n",
      "Aktualitātes\n",
      "Kalendārs\n",
      "Dzintaru koncertzāle\n",
      "Apmeklētājiem\n",
      "Kontakti\n",
      "Koncertzāles video\n",
      "Pasākumu rīkotājiem\n",
      "LEONĪDA AGUTINA un ANŽELIKAS VARUMAS koncerts (PĀRCELTS UZ 12.06.2021.)\n",
      "Se. 12. Jūnijs 2021 19:30\n",
      "Lielā zāle\n",
      "Koncerts ir pārcelts uz 2020. gada 10. augustu.\n",
      "Pasākuma organizators: Art Forte SIA\n",
      "Pasākuma organizators ir atbildīgs par visu sniegto ziņu patiesumu, kas tiek izvietota SIA \"Dzintaru koncertzāle\" mājas lapā. SIA \"Dzintaru koncertzāle\" neuzņemas atbildību šajā sakarā.\n",
      "Pirkt biļetes\n",
      "Tweet\n",
      "SIA \"Dzintaru koncertzāle\"\n",
      "Turaidas iela 1, Jūrmala, LV-2015\n",
      "Reģ. Nr. 40003378932\n",
      "PVN maksātāja Nr. LV 40003378932\n",
      "AS SEB banka, kods UNLALV2X\n",
      "Konts LV42UNLA0010009467685\n",
      "Tālrunis: 67762092\n",
      "E-pasts: info@dzintarukoncertzale.lv\n",
      "Atbalstītāji & partneri\n",
      "Iepirkumi\n",
      "Izsoles\n",
      "Presei\n",
      "Oficiālā informācija\n",
      "Pieteikties jaunumiem:\n",
      "Sekot\n",
      "Tweet\n",
      "Izstrādāja\n",
      "\n"
     ]
    }
   ],
   "source": [
    "a = record.content_stream().read()\n",
    "print(a.decode('utf-8')[:1000])\n"
   ]
  },
  {
   "cell_type": "code",
   "execution_count": 245,
   "metadata": {},
   "outputs": [],
   "source": [
    "r.close()"
   ]
  },
  {
   "cell_type": "markdown",
   "metadata": {},
   "source": [
    "## WAT File"
   ]
  },
  {
   "cell_type": "code",
   "execution_count": 246,
   "metadata": {},
   "outputs": [],
   "source": [
    "#WAT files contains metadata\n",
    "\n",
    "r = requests.get(wat_url, stream=True)\n",
    "records = ArchiveIterator(r.raw)"
   ]
  },
  {
   "cell_type": "code",
   "execution_count": 247,
   "metadata": {},
   "outputs": [
    {
     "data": {
      "text/plain": [
       "'warcinfo'"
      ]
     },
     "execution_count": 247,
     "metadata": {},
     "output_type": "execute_result"
    }
   ],
   "source": [
    "#First record is header\n",
    "record = next(records)\n",
    "\n",
    "record.rec_type"
   ]
  },
  {
   "cell_type": "code",
   "execution_count": 248,
   "metadata": {},
   "outputs": [
    {
     "name": "stdout",
     "output_type": "stream",
     "text": [
      "Software-Info: ia-web-commons.1.1.10-SNAPSHOT-20200622102203\r\n",
      "Extracted-Date: Sat, 18 Jul 2020 02:04:29 GMT\r\n",
      "ip: 10.67.67.82\r\n",
      "hostname: ip-10-67-67-82.ec2.internal\r\n",
      "format: WARC File Format 1.0\r\n",
      "conformsTo: http://bibnum.bnf.fr/WARC/WARC_ISO_28500_version1_latestdraft.pdf\r\n",
      "\r\n",
      "\n"
     ]
    }
   ],
   "source": [
    "a = record.content_stream().read()\n",
    "print(a.decode('utf-8'))"
   ]
  },
  {
   "cell_type": "code",
   "execution_count": 249,
   "metadata": {},
   "outputs": [
    {
     "data": {
      "text/plain": [
       "'metadata'"
      ]
     },
     "execution_count": 249,
     "metadata": {},
     "output_type": "execute_result"
    }
   ],
   "source": [
    "#Metadata about the warc records themselves\n",
    "record = next(records)\n",
    "record.rec_type"
   ]
  },
  {
   "cell_type": "code",
   "execution_count": 250,
   "metadata": {},
   "outputs": [
    {
     "data": {
      "text/plain": [
       "[('WARC-Type', 'metadata'),\n",
       " ('WARC-Target-URI', 'CC-MAIN-20200707080206-20200707110206-00401.warc.gz'),\n",
       " ('WARC-Date', '2020-07-18T02:04:29Z'),\n",
       " ('WARC-Record-ID', '<urn:uuid:fc1c5bbd-c288-4e52-86a1-8b950c2a4cb2>'),\n",
       " ('WARC-Refers-To', '<urn:uuid:96f24961-e435-4949-beb7-703989de7be3>'),\n",
       " ('Content-Type', 'application/json'),\n",
       " ('Content-Length', '1234')]"
      ]
     },
     "execution_count": 250,
     "metadata": {},
     "output_type": "execute_result"
    }
   ],
   "source": [
    "record.rec_headers.headers\n"
   ]
  },
  {
   "cell_type": "code",
   "execution_count": 251,
   "metadata": {},
   "outputs": [],
   "source": [
    "record.http_headers"
   ]
  },
  {
   "cell_type": "code",
   "execution_count": 252,
   "metadata": {},
   "outputs": [
    {
     "data": {
      "text/plain": [
       "{'Container': {'Filename': 'CC-MAIN-20200707080206-20200707110206-00401.warc.gz',\n",
       "  'Compressed': True,\n",
       "  'Offset': '0',\n",
       "  'Gzip-Metadata': {'Deflate-Length': '480',\n",
       "   'Header-Length': '10',\n",
       "   'Footer-Length': '8',\n",
       "   'Inflated-CRC': '1030204349',\n",
       "   'Inflated-Length': '761'}},\n",
       " 'Envelope': {'Payload-Metadata': {'Actual-Content-Length': '498',\n",
       "   'Block-Digest': 'sha1:3TWA7432URFSRTLOISLILCQ7LG6JZZEU',\n",
       "   'Trailing-Slop-Length': '0',\n",
       "   'Headers-Corrupt': True,\n",
       "   'Actual-Content-Type': 'application/warc-fields',\n",
       "   'WARC-Info-Metadata': {'isPartOf': 'CC-MAIN-2020-29',\n",
       "    'publisher': 'Common Crawl',\n",
       "    'description': 'Wide crawl of the web for July 2020',\n",
       "    'operator': 'Common Crawl Admin (info@commoncrawl.org)',\n",
       "    'hostname': 'ip-10-67-67-83.ec2.internal',\n",
       "    'software': 'Apache Nutch 1.17 (modified, https://github.com/commoncrawl/nutch/)',\n",
       "    'robots': 'checked via crawler-commons 1.2-SNAPSHOT (https://github.com/crawler-commons/crawler-commons)',\n",
       "    'format': 'WARC File Format 1.1'}},\n",
       "  'Format': 'WARC',\n",
       "  'WARC-Header-Length': '259',\n",
       "  'WARC-Header-Metadata': {'WARC-Type': 'warcinfo',\n",
       "   'WARC-Date': '2020-07-07T08:02:06Z',\n",
       "   'WARC-Record-ID': '<urn:uuid:96f24961-e435-4949-beb7-703989de7be3>',\n",
       "   'Content-Length': '498',\n",
       "   'Content-Type': 'application/warc-fields',\n",
       "   'WARC-Filename': 'CC-MAIN-20200707080206-20200707110206-00401.warc.gz'}}}"
      ]
     },
     "execution_count": 252,
     "metadata": {},
     "output_type": "execute_result"
    }
   ],
   "source": [
    "a = record.content_stream().read()\n",
    "data = json.loads(a.decode('utf-8'))\n",
    "data"
   ]
  },
  {
   "cell_type": "code",
   "execution_count": 253,
   "metadata": {},
   "outputs": [
    {
     "data": {
      "text/plain": [
       "'metadata'"
      ]
     },
     "execution_count": 253,
     "metadata": {},
     "output_type": "execute_result"
    }
   ],
   "source": [
    "#next contains metadata about request\n",
    "record = next(records)\n",
    "record.rec_type\n"
   ]
  },
  {
   "cell_type": "code",
   "execution_count": 254,
   "metadata": {},
   "outputs": [
    {
     "data": {
      "text/plain": [
       "[('WARC-Type', 'metadata'),\n",
       " ('WARC-Target-URI',\n",
       "  'http://%e2%80%8bwww.dzintarukoncertzale.lv/events/view/2557'),\n",
       " ('WARC-Date', '2020-07-18T02:04:29Z'),\n",
       " ('WARC-Record-ID', '<urn:uuid:40964883-db0b-40bd-88a7-8fac4c9c0c81>'),\n",
       " ('WARC-Refers-To', '<urn:uuid:8fbee473-4c86-4ffb-83a4-dea0b7dd83bb>'),\n",
       " ('Content-Type', 'application/json'),\n",
       " ('Content-Length', '1409')]"
      ]
     },
     "execution_count": 254,
     "metadata": {},
     "output_type": "execute_result"
    }
   ],
   "source": [
    "record.rec_headers.headers\n"
   ]
  },
  {
   "cell_type": "code",
   "execution_count": 255,
   "metadata": {},
   "outputs": [
    {
     "data": {
      "text/plain": [
       "{'Container': {'Filename': 'CC-MAIN-20200707080206-20200707110206-00401.warc.gz',\n",
       "  'Compressed': True,\n",
       "  'Offset': '480',\n",
       "  'Gzip-Metadata': {'Deflate-Length': '447',\n",
       "   'Header-Length': '10',\n",
       "   'Footer-Length': '8',\n",
       "   'Inflated-CRC': '2002798938',\n",
       "   'Inflated-Length': '658'}},\n",
       " 'Envelope': {'Payload-Metadata': {'Actual-Content-Type': 'application/http; msgtype=request',\n",
       "   'HTTP-Request-Metadata': {'Request-Message': {'Method': 'GET',\n",
       "     'Path': '/events/view/2557',\n",
       "     'Version': 'HTTP/1.1'},\n",
       "    'Headers-Length': '276',\n",
       "    'Headers': {'User-Agent': 'CCBot/2.0 (https://commoncrawl.org/faq/)',\n",
       "     'Accept': 'text/html,application/xhtml+xml,application/xml;q=0.9,*/*;q=0.8',\n",
       "     'Accept-Language': 'en-US,en;q=0.5',\n",
       "     'Accept-Encoding': 'br,gzip',\n",
       "     'Host': 'www.dzintarukoncertzale.lv',\n",
       "     'Connection': 'Keep-Alive'},\n",
       "    'Entity-Length': '0',\n",
       "    'Entity-Digest': 'sha1:3I42H3S6NNFQ2MSVX7XZKYAYSCX5QBYJ',\n",
       "    'Entity-Trailing-Slop-Length': '0'},\n",
       "   'Actual-Content-Length': '278',\n",
       "   'Block-Digest': 'sha1:TNG7TZ3JLRN45XGOSW6MZIQRCTITMYSB',\n",
       "   'Trailing-Slop-Length': '4'},\n",
       "  'Format': 'WARC',\n",
       "  'WARC-Header-Length': '376',\n",
       "  'WARC-Header-Metadata': {'WARC-Type': 'request',\n",
       "   'WARC-Date': '2020-07-07T08:17:49Z',\n",
       "   'WARC-Record-ID': '<urn:uuid:8fbee473-4c86-4ffb-83a4-dea0b7dd83bb>',\n",
       "   'Content-Length': '278',\n",
       "   'Content-Type': 'application/http; msgtype=request',\n",
       "   'WARC-Warcinfo-ID': '<urn:uuid:96f24961-e435-4949-beb7-703989de7be3>',\n",
       "   'WARC-IP-Address': '91.220.43.37',\n",
       "   'WARC-Target-URI': 'http://%e2%80%8bwww.dzintarukoncertzale.lv/events/view/2557'}}}"
      ]
     },
     "execution_count": 255,
     "metadata": {},
     "output_type": "execute_result"
    }
   ],
   "source": [
    "# Container shows where the WARC data is, this is about the request\n",
    "\n",
    "\n",
    "a = record.content_stream().read()\n",
    "data = json.loads(a.decode('utf-8'))\n",
    "data"
   ]
  },
  {
   "cell_type": "code",
   "execution_count": 256,
   "metadata": {},
   "outputs": [
    {
     "data": {
      "text/plain": [
       "{'Payload-Metadata': {'Actual-Content-Type': 'application/http; msgtype=request',\n",
       "  'HTTP-Request-Metadata': {'Request-Message': {'Method': 'GET',\n",
       "    'Path': '/events/view/2557',\n",
       "    'Version': 'HTTP/1.1'},\n",
       "   'Headers-Length': '276',\n",
       "   'Headers': {'User-Agent': 'CCBot/2.0 (https://commoncrawl.org/faq/)',\n",
       "    'Accept': 'text/html,application/xhtml+xml,application/xml;q=0.9,*/*;q=0.8',\n",
       "    'Accept-Language': 'en-US,en;q=0.5',\n",
       "    'Accept-Encoding': 'br,gzip',\n",
       "    'Host': 'www.dzintarukoncertzale.lv',\n",
       "    'Connection': 'Keep-Alive'},\n",
       "   'Entity-Length': '0',\n",
       "   'Entity-Digest': 'sha1:3I42H3S6NNFQ2MSVX7XZKYAYSCX5QBYJ',\n",
       "   'Entity-Trailing-Slop-Length': '0'},\n",
       "  'Actual-Content-Length': '278',\n",
       "  'Block-Digest': 'sha1:TNG7TZ3JLRN45XGOSW6MZIQRCTITMYSB',\n",
       "  'Trailing-Slop-Length': '4'},\n",
       " 'Format': 'WARC',\n",
       " 'WARC-Header-Length': '376',\n",
       " 'WARC-Header-Metadata': {'WARC-Type': 'request',\n",
       "  'WARC-Date': '2020-07-07T08:17:49Z',\n",
       "  'WARC-Record-ID': '<urn:uuid:8fbee473-4c86-4ffb-83a4-dea0b7dd83bb>',\n",
       "  'Content-Length': '278',\n",
       "  'Content-Type': 'application/http; msgtype=request',\n",
       "  'WARC-Warcinfo-ID': '<urn:uuid:96f24961-e435-4949-beb7-703989de7be3>',\n",
       "  'WARC-IP-Address': '91.220.43.37',\n",
       "  'WARC-Target-URI': 'http://%e2%80%8bwww.dzintarukoncertzale.lv/events/view/2557'}}"
      ]
     },
     "execution_count": 256,
     "metadata": {},
     "output_type": "execute_result"
    }
   ],
   "source": [
    "#Http request metadata\n",
    "data['Envelope']"
   ]
  },
  {
   "cell_type": "code",
   "execution_count": 257,
   "metadata": {},
   "outputs": [
    {
     "data": {
      "text/plain": [
       "'metadata'"
      ]
     },
     "execution_count": 257,
     "metadata": {},
     "output_type": "execute_result"
    }
   ],
   "source": [
    "#Next record is about response\n",
    "record = next(records)\n",
    "record.rec_type"
   ]
  },
  {
   "cell_type": "code",
   "execution_count": 258,
   "metadata": {},
   "outputs": [
    {
     "data": {
      "text/plain": [
       "[('WARC-Type', 'metadata'),\n",
       " ('WARC-Target-URI',\n",
       "  'http://%e2%80%8bwww.dzintarukoncertzale.lv/events/view/2557'),\n",
       " ('WARC-Date', '2020-07-18T02:04:29Z'),\n",
       " ('WARC-Record-ID', '<urn:uuid:369fed4f-4e14-478c-8c04-08f522a80d56>'),\n",
       " ('WARC-Refers-To', '<urn:uuid:8b012124-de19-4236-8736-19176c463a6b>'),\n",
       " ('Content-Type', 'application/json'),\n",
       " ('Content-Length', '6690')]"
      ]
     },
     "execution_count": 258,
     "metadata": {},
     "output_type": "execute_result"
    }
   ],
   "source": [
    "record.rec_headers.headers\n"
   ]
  },
  {
   "cell_type": "code",
   "execution_count": 259,
   "metadata": {},
   "outputs": [
    {
     "data": {
      "text/plain": [
       "{'Container': {'Filename': 'CC-MAIN-20200707080206-20200707110206-00401.warc.gz',\n",
       "  'Compressed': True,\n",
       "  'Offset': '927',\n",
       "  'Gzip-Metadata': {'Deflate-Length': '5291',\n",
       "   'Header-Length': '10',\n",
       "   'Footer-Length': '8',\n",
       "   'Inflated-CRC': '1662782872',\n",
       "   'Inflated-Length': '17691'}},\n",
       " 'Envelope': {'Payload-Metadata': {'Actual-Content-Type': 'application/http; msgtype=response',\n",
       "   'HTTP-Response-Metadata': {'Response-Message': {'Status': '200',\n",
       "     'Version': 'HTTP/1.1',\n",
       "     'Reason': 'OK'},\n",
       "    'Headers-Length': '581',\n",
       "    'Headers': {'Connection': 'Keep-Alive',\n",
       "     'Set-Cookie': 'session=eb57bf3bac6a69e612ed4abc9b0bd759; path=/',\n",
       "     'Content-Type': 'text/html; charset=utf-8',\n",
       "     'Cache-Control': 'public, max-age=0',\n",
       "     'Expires': 'Tue, 07 Jul 2020 08:17:48 GMT',\n",
       "     'X-Crawler-Transfer-Encoding': 'chunked',\n",
       "     'X-Crawler-Content-Encoding': 'br',\n",
       "     'Vary': 'Accept-Encoding,User-Agent',\n",
       "     'Date': 'Tue, 07 Jul 2020 08:17:48 GMT',\n",
       "     'Server': 'LiteSpeed',\n",
       "     'X-UA-Compatible': 'IE=edge',\n",
       "     'X-Frame-Options': 'DENY',\n",
       "     'Strict-Transport-Security': 'max-age=16070400; includeSubDomains',\n",
       "     'X-Content-Type-Options': 'nosniff',\n",
       "     'X-XSS-Protection': '1; mode=block',\n",
       "     'Content-Length': '16498'},\n",
       "    'HTML-Metadata': {'Head': {'Metas': [{'content': 'text/html; charset=utf-8',\n",
       "        'http-equiv': 'Content-Type'},\n",
       "       {'name': 'keywords', 'content': 'Dzintaru koncertzāle'},\n",
       "       {'name': 'description', 'content': 'Dzintaru koncertzāle'},\n",
       "       {'name': 'robots', 'content': 'index, follow'},\n",
       "       {'content': 'IE=edge,chrome=1', 'http-equiv': 'X-UA-Compatible'},\n",
       "       {'name': 'viewport',\n",
       "        'content': 'width=device-width, initial-scale=1.0'},\n",
       "       {'content': '781514475514247', 'property': 'fb:app_id'},\n",
       "       {'content': 'Dzintaru Koncertzāle', 'property': 'og:site_name'},\n",
       "       {'content': 'Jūrmalas festivāls. Atklāšanas koncerts. Veltījums Marisam Jansonam (PĀRCELTS UZ 29. JŪLIJU)',\n",
       "        'property': 'og:title'},\n",
       "       {'content': 'http://www.dzintarukoncertzale.lv/test/events/view/2557',\n",
       "        'property': 'og:url'},\n",
       "       {'content': 'http://www.dzintarukoncertzale.lv/uploads/events/5e21ca297daf2.jpg',\n",
       "        'property': 'og:image'},\n",
       "       {'content': 'website', 'property': 'og:type'},\n",
       "       {'content': '<p><strong>Pasākuma organizators: Dzintaru koncertzāle SIA\\xa0</strong> \\xa0 \\xa0\\xa0</p>',\n",
       "        'property': 'og:description'}],\n",
       "      'Title': 'Dzintaru koncertzāle',\n",
       "      'Link': [{'path': 'LINK@/href',\n",
       "        'url': '/site-content/css/style.css',\n",
       "        'rel': 'stylesheet',\n",
       "        'type': 'text/css'},\n",
       "       {'path': 'LINK@/href',\n",
       "        'url': '/site-content/css/calendar.css',\n",
       "        'rel': 'stylesheet',\n",
       "        'type': 'text/css'},\n",
       "       {'path': 'LINK@/href',\n",
       "        'url': '/site-content/css/new.css',\n",
       "        'rel': 'stylesheet',\n",
       "        'type': 'text/css'},\n",
       "       {'path': 'LINK@/href',\n",
       "        'url': '/site-content/css/images/favicon.jpg',\n",
       "        'rel': 'shortcut icon',\n",
       "        'type': 'image/jpg'},\n",
       "       {'path': 'LINK@/href',\n",
       "        'url': '/site-content/css/jplayer/pink.flag/css/jplayer.pink.flag.css',\n",
       "        'rel': 'stylesheet',\n",
       "        'type': 'text/css'}],\n",
       "      'Scripts': [{'path': 'SCRIPT@/src',\n",
       "        'url': '/site-content/js/jquery-3.2.1.min.js',\n",
       "        'type': 'text/javascript'},\n",
       "       {'path': 'SCRIPT@/src',\n",
       "        'url': '/site-content/js/jplayer/jquery.jplayer.min.js',\n",
       "        'type': 'text/javascript'},\n",
       "       {'path': 'SCRIPT@/src',\n",
       "        'url': '/site-content/js/jquery.matchHeight.js',\n",
       "        'type': 'text/javascript'},\n",
       "       {'path': 'SCRIPT@/src',\n",
       "        'url': '/site-content/js/custom.js?v=3',\n",
       "        'type': 'text/javascript'}]},\n",
       "     'Links': [{'path': 'STYLE/#text',\n",
       "       'href': '/site-content/css/images/main-container-bottom-left.png'},\n",
       "      {'path': 'STYLE/#text',\n",
       "       'href': '/site-content/css/images/main-container-bottom-right.png'},\n",
       "      {'path': 'STYLE/#text',\n",
       "       'href': '/site-content/css/images/main-container-middle-left.png'},\n",
       "      {'path': 'STYLE/#text',\n",
       "       'href': '/site-content/css/images/main-container-middle-right.png'},\n",
       "      {'path': 'IMG@/src',\n",
       "       'url': 'https://www.facebook.com/tr?id=829172047149214&ev=PageView\\n    &noscript=1'},\n",
       "      {'path': 'A@/href', 'url': '/'},\n",
       "      {'path': 'A@/href', 'url': '/?lang=lv', 'text': 'LV'},\n",
       "      {'path': 'A@/href', 'url': '/?lang=en', 'text': 'EN'},\n",
       "      {'path': 'A@/href', 'url': '/?lang=ru', 'text': 'RU'},\n",
       "      {'path': 'A@/href',\n",
       "       'url': 'https://twitter.com/koncertzale',\n",
       "       'target': '_blank'},\n",
       "      {'path': 'A@/href',\n",
       "       'url': 'https://www.facebook.com/dzintarukoncertzale',\n",
       "       'target': '_blank'},\n",
       "      {'path': 'A@/href',\n",
       "       'url': 'https://www.instagram.com/dzintarukoncertzale/',\n",
       "       'target': '_blank'},\n",
       "      {'path': 'A@/href',\n",
       "       'url': 'https://www.youtube.com/channel/UCyuts4RHuYJXGDYfoAm6RxA',\n",
       "       'target': '_blank'},\n",
       "      {'path': 'A@/href', 'url': '/tour', 'text': '360°TŪRE'},\n",
       "      {'path': 'A@/href', 'url': '/actualities', 'text': 'Aktualitātes'},\n",
       "      {'path': 'A@/href', 'url': '/calendar', 'text': 'Kalendārs'},\n",
       "      {'path': 'A@/href', 'url': '/halls', 'text': 'Dzintaru koncertzāle'},\n",
       "      {'path': 'A@/href', 'url': '/visitors', 'text': 'Apmeklētājiem'},\n",
       "      {'path': 'A@/href', 'url': '/contacts', 'text': 'Kontakti'},\n",
       "      {'path': 'A@/href',\n",
       "       'url': 'https://www.youtube.com/channel/UCyuts4RHuYJXGDYfoAm6RxA',\n",
       "       'target': '_blank',\n",
       "       'text': 'Koncertzāles video'},\n",
       "      {'path': 'A@/href', 'url': '/partners', 'text': 'Pasākumu rīkotājiem'},\n",
       "      {'path': 'IMG@/src',\n",
       "       'url': '/uploads/events/5e21ca297daf2.jpg',\n",
       "       'alt': ''},\n",
       "      {'path': 'A@/href',\n",
       "       'url': 'https://hotelwebsitebooking.com/jurmala/rooms',\n",
       "       'target': '_blank',\n",
       "       'text': 'Rezervēt viesnīcu'},\n",
       "      {'path': 'A@/href',\n",
       "       'url': 'http://www.dzintarukoncertzale.lv/events/view/2557',\n",
       "       'text': 'Tweet'},\n",
       "      {'path': 'IMG@/src',\n",
       "       'url': '/site-content/css/images/dzk-logo-footer.png',\n",
       "       'alt': 'DZK'},\n",
       "      {'path': 'A@/href',\n",
       "       'url': '/supporters',\n",
       "       'text': 'Atbalstītāji & partneri'},\n",
       "      {'path': 'A@/href', 'url': '/purchases', 'text': 'Iepirkumi'},\n",
       "      {'path': 'A@/href', 'url': '/auctions', 'text': 'Izsoles'},\n",
       "      {'path': 'A@/href', 'url': '/press', 'text': 'Presei'},\n",
       "      {'path': 'A@/href',\n",
       "       'url': '/officialinfo',\n",
       "       'text': 'Oficiālā informācija'},\n",
       "      {'path': 'FORM@/action', 'url': '', 'method': 'post'},\n",
       "      {'path': 'A@/href',\n",
       "       'url': 'https://www.instagram.com/dzintarukoncertzale/',\n",
       "       'text': 'Sekot'},\n",
       "      {'path': 'A@/href', 'url': 'https://twitter.com/share', 'text': 'Tweet'},\n",
       "      {'path': 'DIV@/data-href', 'url': 'http://dzk.lv/'},\n",
       "      {'path': 'DIV@/data-href',\n",
       "       'url': 'https://www.facebook.com/dzintarukoncertzale'},\n",
       "      {'path': 'A@/href',\n",
       "       'url': 'https://sem.lv/',\n",
       "       'target': '_blank',\n",
       "       'title': 'Sem.lv - Mājas lapas un dizaina izstrāde'},\n",
       "      {'path': 'A@/href', 'url': '#'},\n",
       "      {'path': 'A@/href', 'url': '#'}]},\n",
       "    'Entity-Length': '16498',\n",
       "    'Entity-Digest': 'sha1:AGSOKPBOBO6RR4REQCHS2HMJPOYKPPI2',\n",
       "    'Entity-Trailing-Slop-Length': '0'},\n",
       "   'Actual-Content-Length': '17079',\n",
       "   'Block-Digest': 'sha1:32XS5LHB66LJ2GHIICTU77OONW5WGF47',\n",
       "   'Trailing-Slop-Length': '4'},\n",
       "  'Format': 'WARC',\n",
       "  'WARC-Header-Length': '608',\n",
       "  'WARC-Header-Metadata': {'WARC-Type': 'response',\n",
       "   'WARC-Date': '2020-07-07T08:17:49Z',\n",
       "   'WARC-Record-ID': '<urn:uuid:8b012124-de19-4236-8736-19176c463a6b>',\n",
       "   'Content-Length': '17079',\n",
       "   'Content-Type': 'application/http; msgtype=response',\n",
       "   'WARC-Warcinfo-ID': '<urn:uuid:96f24961-e435-4949-beb7-703989de7be3>',\n",
       "   'WARC-Concurrent-To': '<urn:uuid:8fbee473-4c86-4ffb-83a4-dea0b7dd83bb>',\n",
       "   'WARC-IP-Address': '91.220.43.37',\n",
       "   'WARC-Target-URI': 'http://%e2%80%8bwww.dzintarukoncertzale.lv/events/view/2557',\n",
       "   'WARC-Payload-Digest': 'sha1:AGSOKPBOBO6RR4REQCHS2HMJPOYKPPI2',\n",
       "   'WARC-Block-Digest': 'sha1:32XS5LHB66LJ2GHIICTU77OONW5WGF47',\n",
       "   'WARC-Identified-Payload-Type': 'text/html'}}}"
      ]
     },
     "execution_count": 259,
     "metadata": {},
     "output_type": "execute_result"
    }
   ],
   "source": [
    "a = record.content_stream().read()\n",
    "data = json.loads(a.decode('utf-8'))\n",
    "data"
   ]
  },
  {
   "cell_type": "code",
   "execution_count": 260,
   "metadata": {},
   "outputs": [
    {
     "data": {
      "text/plain": [
       "{'Actual-Content-Type': 'application/http; msgtype=response',\n",
       " 'HTTP-Response-Metadata': {'Response-Message': {'Status': '200',\n",
       "   'Version': 'HTTP/1.1',\n",
       "   'Reason': 'OK'},\n",
       "  'Headers-Length': '581',\n",
       "  'Headers': {'Connection': 'Keep-Alive',\n",
       "   'Set-Cookie': 'session=eb57bf3bac6a69e612ed4abc9b0bd759; path=/',\n",
       "   'Content-Type': 'text/html; charset=utf-8',\n",
       "   'Cache-Control': 'public, max-age=0',\n",
       "   'Expires': 'Tue, 07 Jul 2020 08:17:48 GMT',\n",
       "   'X-Crawler-Transfer-Encoding': 'chunked',\n",
       "   'X-Crawler-Content-Encoding': 'br',\n",
       "   'Vary': 'Accept-Encoding,User-Agent',\n",
       "   'Date': 'Tue, 07 Jul 2020 08:17:48 GMT',\n",
       "   'Server': 'LiteSpeed',\n",
       "   'X-UA-Compatible': 'IE=edge',\n",
       "   'X-Frame-Options': 'DENY',\n",
       "   'Strict-Transport-Security': 'max-age=16070400; includeSubDomains',\n",
       "   'X-Content-Type-Options': 'nosniff',\n",
       "   'X-XSS-Protection': '1; mode=block',\n",
       "   'Content-Length': '16498'},\n",
       "  'HTML-Metadata': {'Head': {'Metas': [{'content': 'text/html; charset=utf-8',\n",
       "      'http-equiv': 'Content-Type'},\n",
       "     {'name': 'keywords', 'content': 'Dzintaru koncertzāle'},\n",
       "     {'name': 'description', 'content': 'Dzintaru koncertzāle'},\n",
       "     {'name': 'robots', 'content': 'index, follow'},\n",
       "     {'content': 'IE=edge,chrome=1', 'http-equiv': 'X-UA-Compatible'},\n",
       "     {'name': 'viewport', 'content': 'width=device-width, initial-scale=1.0'},\n",
       "     {'content': '781514475514247', 'property': 'fb:app_id'},\n",
       "     {'content': 'Dzintaru Koncertzāle', 'property': 'og:site_name'},\n",
       "     {'content': 'Jūrmalas festivāls. Atklāšanas koncerts. Veltījums Marisam Jansonam (PĀRCELTS UZ 29. JŪLIJU)',\n",
       "      'property': 'og:title'},\n",
       "     {'content': 'http://www.dzintarukoncertzale.lv/test/events/view/2557',\n",
       "      'property': 'og:url'},\n",
       "     {'content': 'http://www.dzintarukoncertzale.lv/uploads/events/5e21ca297daf2.jpg',\n",
       "      'property': 'og:image'},\n",
       "     {'content': 'website', 'property': 'og:type'},\n",
       "     {'content': '<p><strong>Pasākuma organizators: Dzintaru koncertzāle SIA\\xa0</strong> \\xa0 \\xa0\\xa0</p>',\n",
       "      'property': 'og:description'}],\n",
       "    'Title': 'Dzintaru koncertzāle',\n",
       "    'Link': [{'path': 'LINK@/href',\n",
       "      'url': '/site-content/css/style.css',\n",
       "      'rel': 'stylesheet',\n",
       "      'type': 'text/css'},\n",
       "     {'path': 'LINK@/href',\n",
       "      'url': '/site-content/css/calendar.css',\n",
       "      'rel': 'stylesheet',\n",
       "      'type': 'text/css'},\n",
       "     {'path': 'LINK@/href',\n",
       "      'url': '/site-content/css/new.css',\n",
       "      'rel': 'stylesheet',\n",
       "      'type': 'text/css'},\n",
       "     {'path': 'LINK@/href',\n",
       "      'url': '/site-content/css/images/favicon.jpg',\n",
       "      'rel': 'shortcut icon',\n",
       "      'type': 'image/jpg'},\n",
       "     {'path': 'LINK@/href',\n",
       "      'url': '/site-content/css/jplayer/pink.flag/css/jplayer.pink.flag.css',\n",
       "      'rel': 'stylesheet',\n",
       "      'type': 'text/css'}],\n",
       "    'Scripts': [{'path': 'SCRIPT@/src',\n",
       "      'url': '/site-content/js/jquery-3.2.1.min.js',\n",
       "      'type': 'text/javascript'},\n",
       "     {'path': 'SCRIPT@/src',\n",
       "      'url': '/site-content/js/jplayer/jquery.jplayer.min.js',\n",
       "      'type': 'text/javascript'},\n",
       "     {'path': 'SCRIPT@/src',\n",
       "      'url': '/site-content/js/jquery.matchHeight.js',\n",
       "      'type': 'text/javascript'},\n",
       "     {'path': 'SCRIPT@/src',\n",
       "      'url': '/site-content/js/custom.js?v=3',\n",
       "      'type': 'text/javascript'}]},\n",
       "   'Links': [{'path': 'STYLE/#text',\n",
       "     'href': '/site-content/css/images/main-container-bottom-left.png'},\n",
       "    {'path': 'STYLE/#text',\n",
       "     'href': '/site-content/css/images/main-container-bottom-right.png'},\n",
       "    {'path': 'STYLE/#text',\n",
       "     'href': '/site-content/css/images/main-container-middle-left.png'},\n",
       "    {'path': 'STYLE/#text',\n",
       "     'href': '/site-content/css/images/main-container-middle-right.png'},\n",
       "    {'path': 'IMG@/src',\n",
       "     'url': 'https://www.facebook.com/tr?id=829172047149214&ev=PageView\\n    &noscript=1'},\n",
       "    {'path': 'A@/href', 'url': '/'},\n",
       "    {'path': 'A@/href', 'url': '/?lang=lv', 'text': 'LV'},\n",
       "    {'path': 'A@/href', 'url': '/?lang=en', 'text': 'EN'},\n",
       "    {'path': 'A@/href', 'url': '/?lang=ru', 'text': 'RU'},\n",
       "    {'path': 'A@/href',\n",
       "     'url': 'https://twitter.com/koncertzale',\n",
       "     'target': '_blank'},\n",
       "    {'path': 'A@/href',\n",
       "     'url': 'https://www.facebook.com/dzintarukoncertzale',\n",
       "     'target': '_blank'},\n",
       "    {'path': 'A@/href',\n",
       "     'url': 'https://www.instagram.com/dzintarukoncertzale/',\n",
       "     'target': '_blank'},\n",
       "    {'path': 'A@/href',\n",
       "     'url': 'https://www.youtube.com/channel/UCyuts4RHuYJXGDYfoAm6RxA',\n",
       "     'target': '_blank'},\n",
       "    {'path': 'A@/href', 'url': '/tour', 'text': '360°TŪRE'},\n",
       "    {'path': 'A@/href', 'url': '/actualities', 'text': 'Aktualitātes'},\n",
       "    {'path': 'A@/href', 'url': '/calendar', 'text': 'Kalendārs'},\n",
       "    {'path': 'A@/href', 'url': '/halls', 'text': 'Dzintaru koncertzāle'},\n",
       "    {'path': 'A@/href', 'url': '/visitors', 'text': 'Apmeklētājiem'},\n",
       "    {'path': 'A@/href', 'url': '/contacts', 'text': 'Kontakti'},\n",
       "    {'path': 'A@/href',\n",
       "     'url': 'https://www.youtube.com/channel/UCyuts4RHuYJXGDYfoAm6RxA',\n",
       "     'target': '_blank',\n",
       "     'text': 'Koncertzāles video'},\n",
       "    {'path': 'A@/href', 'url': '/partners', 'text': 'Pasākumu rīkotājiem'},\n",
       "    {'path': 'IMG@/src',\n",
       "     'url': '/uploads/events/5e21ca297daf2.jpg',\n",
       "     'alt': ''},\n",
       "    {'path': 'A@/href',\n",
       "     'url': 'https://hotelwebsitebooking.com/jurmala/rooms',\n",
       "     'target': '_blank',\n",
       "     'text': 'Rezervēt viesnīcu'},\n",
       "    {'path': 'A@/href',\n",
       "     'url': 'http://www.dzintarukoncertzale.lv/events/view/2557',\n",
       "     'text': 'Tweet'},\n",
       "    {'path': 'IMG@/src',\n",
       "     'url': '/site-content/css/images/dzk-logo-footer.png',\n",
       "     'alt': 'DZK'},\n",
       "    {'path': 'A@/href',\n",
       "     'url': '/supporters',\n",
       "     'text': 'Atbalstītāji & partneri'},\n",
       "    {'path': 'A@/href', 'url': '/purchases', 'text': 'Iepirkumi'},\n",
       "    {'path': 'A@/href', 'url': '/auctions', 'text': 'Izsoles'},\n",
       "    {'path': 'A@/href', 'url': '/press', 'text': 'Presei'},\n",
       "    {'path': 'A@/href',\n",
       "     'url': '/officialinfo',\n",
       "     'text': 'Oficiālā informācija'},\n",
       "    {'path': 'FORM@/action', 'url': '', 'method': 'post'},\n",
       "    {'path': 'A@/href',\n",
       "     'url': 'https://www.instagram.com/dzintarukoncertzale/',\n",
       "     'text': 'Sekot'},\n",
       "    {'path': 'A@/href', 'url': 'https://twitter.com/share', 'text': 'Tweet'},\n",
       "    {'path': 'DIV@/data-href', 'url': 'http://dzk.lv/'},\n",
       "    {'path': 'DIV@/data-href',\n",
       "     'url': 'https://www.facebook.com/dzintarukoncertzale'},\n",
       "    {'path': 'A@/href',\n",
       "     'url': 'https://sem.lv/',\n",
       "     'target': '_blank',\n",
       "     'title': 'Sem.lv - Mājas lapas un dizaina izstrāde'},\n",
       "    {'path': 'A@/href', 'url': '#'},\n",
       "    {'path': 'A@/href', 'url': '#'}]},\n",
       "  'Entity-Length': '16498',\n",
       "  'Entity-Digest': 'sha1:AGSOKPBOBO6RR4REQCHS2HMJPOYKPPI2',\n",
       "  'Entity-Trailing-Slop-Length': '0'},\n",
       " 'Actual-Content-Length': '17079',\n",
       " 'Block-Digest': 'sha1:32XS5LHB66LJ2GHIICTU77OONW5WGF47',\n",
       " 'Trailing-Slop-Length': '4'}"
      ]
     },
     "execution_count": 260,
     "metadata": {},
     "output_type": "execute_result"
    }
   ],
   "source": [
    "data['Envelope']['Payload-Metadata']"
   ]
  },
  {
   "cell_type": "code",
   "execution_count": 261,
   "metadata": {},
   "outputs": [
    {
     "data": {
      "text/plain": [
       "'metadata'"
      ]
     },
     "execution_count": 261,
     "metadata": {},
     "output_type": "execute_result"
    }
   ],
   "source": [
    "#Next record contains Metadata of the request\n",
    "record = next(records)\n",
    "record.rec_type"
   ]
  },
  {
   "cell_type": "code",
   "execution_count": 262,
   "metadata": {},
   "outputs": [
    {
     "data": {
      "text/plain": [
       "[('WARC-Type', 'metadata'),\n",
       " ('WARC-Target-URI',\n",
       "  'http://%e2%80%8bwww.dzintarukoncertzale.lv/events/view/2557'),\n",
       " ('WARC-Date', '2020-07-18T02:04:29Z'),\n",
       " ('WARC-Record-ID', '<urn:uuid:72ca665e-7ea2-4341-9d19-494ba5832fdf>'),\n",
       " ('WARC-Refers-To', '<urn:uuid:fa32f8ea-106a-4fa3-b10f-02db1f78dffe>'),\n",
       " ('Content-Type', 'application/json'),\n",
       " ('Content-Length', '1251')]"
      ]
     },
     "execution_count": 262,
     "metadata": {},
     "output_type": "execute_result"
    }
   ],
   "source": [
    "record.rec_headers.headers\n"
   ]
  },
  {
   "cell_type": "code",
   "execution_count": 263,
   "metadata": {},
   "outputs": [
    {
     "data": {
      "text/plain": [
       "{'Container': {'Filename': 'CC-MAIN-20200707080206-20200707110206-00401.warc.gz',\n",
       "  'Compressed': True,\n",
       "  'Offset': '6218',\n",
       "  'Gzip-Metadata': {'Deflate-Length': '445',\n",
       "   'Header-Length': '10',\n",
       "   'Footer-Length': '8',\n",
       "   'Inflated-CRC': '-955918730',\n",
       "   'Inflated-Length': '612'}},\n",
       " 'Envelope': {'Payload-Metadata': {'Actual-Content-Type': 'application/metadata-fields',\n",
       "   'WARC-Metadata-Metadata': {'Metadata-Records': [{'Name': 'fetchTimeMs',\n",
       "      'Value': '11570'},\n",
       "     {'Name': 'charset-detected', 'Value': 'UTF-8'},\n",
       "     {'Name': 'languages-cld2',\n",
       "      'Value': '{\"reliable\":true,\"text-bytes\":1229,\"languages\":[{\"code\":\"lv\",\"code-iso-639-3\":\"lav\",\"text-covered\":0.99,\"score\":1234.0,\"name\":\"LATVIAN\"}]}'}]},\n",
       "   'Actual-Content-Length': '203',\n",
       "   'Block-Digest': 'sha1:ILU52LZXAC55K5JBOSSW662RKOZ6BFVQ',\n",
       "   'Trailing-Slop-Length': '0'},\n",
       "  'Format': 'WARC',\n",
       "  'WARC-Header-Length': '405',\n",
       "  'WARC-Header-Metadata': {'WARC-Type': 'metadata',\n",
       "   'WARC-Date': '2020-07-07T08:17:49Z',\n",
       "   'WARC-Record-ID': '<urn:uuid:fa32f8ea-106a-4fa3-b10f-02db1f78dffe>',\n",
       "   'Content-Length': '203',\n",
       "   'Content-Type': 'application/warc-fields',\n",
       "   'WARC-Warcinfo-ID': '<urn:uuid:96f24961-e435-4949-beb7-703989de7be3>',\n",
       "   'WARC-Concurrent-To': '<urn:uuid:8b012124-de19-4236-8736-19176c463a6b>',\n",
       "   'WARC-Target-URI': 'http://%e2%80%8bwww.dzintarukoncertzale.lv/events/view/2557'}}}"
      ]
     },
     "execution_count": 263,
     "metadata": {},
     "output_type": "execute_result"
    }
   ],
   "source": [
    "# Envelope contains WARC-Metadata, this covers all the actual metadata in the metadata record.\n",
    "\n",
    "\n",
    "a = record.content_stream().read()\n",
    "data = json.loads(a)\n",
    "data"
   ]
  },
  {
   "cell_type": "code",
   "execution_count": null,
   "metadata": {},
   "outputs": [],
   "source": []
  },
  {
   "cell_type": "code",
   "execution_count": null,
   "metadata": {},
   "outputs": [],
   "source": []
  }
 ],
 "metadata": {
  "kernelspec": {
   "display_name": "Python 3.7.7 64-bit ('stanleys-env': venv)",
   "language": "python",
   "name": "python37764bitstanleysenvvenv3ced13417edc43b2b4140f58e0a50873"
  },
  "language_info": {
   "codemirror_mode": {
    "name": "ipython",
    "version": 3
   },
   "file_extension": ".py",
   "mimetype": "text/x-python",
   "name": "python",
   "nbconvert_exporter": "python",
   "pygments_lexer": "ipython3",
   "version": "3.7.7"
  }
 },
 "nbformat": 4,
 "nbformat_minor": 4
}
